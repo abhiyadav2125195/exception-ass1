{
 "cells": [
  {
   "cell_type": "markdown",
   "id": "f4aa7941-7106-437d-a460-67e846d37492",
   "metadata": {},
   "source": [
    "# Q1. What is an Exception in python? Write the difference between exception and syntax errors"
   ]
  },
  {
   "cell_type": "markdown",
   "id": "6f47229e-58de-4448-9da6-0fc2adea7b4c",
   "metadata": {},
   "source": [
    "## exception is super a class that can handle any type of error by it's self \n",
    "##  Syntax errors are typically caused by mistakes in the code's structure, such as missing or misplaced punctuation, incorrect keywords, or improper use of operators. \n",
    "## Exceptions can be caused by various factors, such as invalid user input, resource unavailability, arithmetic errors  attempting to access an object that doesn't exist."
   ]
  },
  {
   "cell_type": "markdown",
   "id": "f0e5e830-a377-4562-a82f-a865318fbb8b",
   "metadata": {},
   "source": [
    "# Q2 what happen when an exception is not handle . explain with ex?"
   ]
  },
  {
   "cell_type": "markdown",
   "id": "9733d76c-fa0c-4c7e-a71b-8c023ae42e1e",
   "metadata": {},
   "source": [
    "## When an exception is not handled in a program, it typically leads to abnormal termination of the program and an error message"
   ]
  },
  {
   "cell_type": "code",
   "execution_count": 7,
   "id": "12645720-9e7a-4b12-8525-4745952ac3b0",
   "metadata": {},
   "outputs": [],
   "source": [
    "def class3(a,b):\n",
    "    d = a/b\n",
    "    return d"
   ]
  },
  {
   "cell_type": "code",
   "execution_count": 8,
   "id": "2043d8cd-070a-4bdf-b7be-82db8b19b182",
   "metadata": {},
   "outputs": [
    {
     "ename": "ZeroDivisionError",
     "evalue": "division by zero",
     "output_type": "error",
     "traceback": [
      "\u001b[0;31m---------------------------------------------------------------------------\u001b[0m",
      "\u001b[0;31mZeroDivisionError\u001b[0m                         Traceback (most recent call last)",
      "Cell \u001b[0;32mIn[8], line 1\u001b[0m\n\u001b[0;32m----> 1\u001b[0m \u001b[43mclass3\u001b[49m\u001b[43m(\u001b[49m\u001b[38;5;241;43m1\u001b[39;49m\u001b[43m,\u001b[49m\u001b[38;5;241;43m0\u001b[39;49m\u001b[43m)\u001b[49m\n",
      "Cell \u001b[0;32mIn[7], line 2\u001b[0m, in \u001b[0;36mclass3\u001b[0;34m(a, b)\u001b[0m\n\u001b[1;32m      1\u001b[0m \u001b[38;5;28;01mdef\u001b[39;00m \u001b[38;5;21mclass3\u001b[39m(a,b):\n\u001b[0;32m----> 2\u001b[0m     d \u001b[38;5;241m=\u001b[39m \u001b[43ma\u001b[49m\u001b[38;5;241;43m/\u001b[39;49m\u001b[43mb\u001b[49m\n\u001b[1;32m      3\u001b[0m     \u001b[38;5;28;01mreturn\u001b[39;00m d\n",
      "\u001b[0;31mZeroDivisionError\u001b[0m: division by zero"
     ]
    }
   ],
   "source": [
    "class3(1,0)"
   ]
  },
  {
   "cell_type": "markdown",
   "id": "18837500-dd85-4d29-9e42-7aaed04ea9cf",
   "metadata": {},
   "source": [
    "## if we don't handle the exception than it's showing error and stop the entire code"
   ]
  },
  {
   "cell_type": "markdown",
   "id": "1f6e78b6-5c7d-4955-ad65-bc00b5341009",
   "metadata": {},
   "source": [
    "# Q3 which python statement are  use to catch and handle "
   ]
  },
  {
   "cell_type": "markdown",
   "id": "58146cee-916b-4982-9143-311c47a7a53a",
   "metadata": {},
   "source": [
    "## In Python, the try-except statement is used to catch and handle exceptions."
   ]
  },
  {
   "cell_type": "code",
   "execution_count": 14,
   "id": "911535e8-2300-4dbf-8020-5426039c7a93",
   "metadata": {},
   "outputs": [],
   "source": [
    "try :\n",
    "    f = open(\"test44.txt\" , \"w\")\n",
    "    f.write(\"this is my first time\")\n",
    "    f.close()\n",
    "except Exception as e :\n",
    "    print(\"this is error\" , e )\n",
    "    "
   ]
  },
  {
   "cell_type": "markdown",
   "id": "e4c4b5d3-45d1-4cd0-b243-3f1c1e6dd8de",
   "metadata": {},
   "source": [
    "#  Q4 explain with an example\n",
    "# (a)try and else\n",
    "# (b)raise \n",
    "# (c)finaly"
   ]
  },
  {
   "cell_type": "code",
   "execution_count": 21,
   "id": "40c98af6-923c-4fb2-8b98-971e5e743f9c",
   "metadata": {},
   "outputs": [
    {
     "name": "stdout",
     "output_type": "stream",
     "text": [
      "your code is okay\n"
     ]
    }
   ],
   "source": [
    "try :\n",
    "    f = open(\"test1.txt\" ,\"w\")\n",
    "    f.write(\"this is my first time\")\n",
    "             \n",
    "except Exception as e :\n",
    "        print(\"this is error\" , e)\n",
    "else :\n",
    "             \n",
    "    f.close()\n",
    "    print(\"your code is okay\")\n",
    "             "
   ]
  },
  {
   "cell_type": "code",
   "execution_count": 23,
   "id": "bb3a05c4-f4de-4245-8c1d-a58cc4e37baa",
   "metadata": {},
   "outputs": [
    {
     "name": "stdout",
     "output_type": "stream",
     "text": [
      "this is error  [Errno 2] No such file or directory: 'test33.txt'\n",
      "this message is showing in every condition even if your code is not working\n"
     ]
    }
   ],
   "source": [
    "try :\n",
    "    f = open(\"test33.txt\" , \"r\")\n",
    "    f.read()\n",
    "    \n",
    "except Exception as e :\n",
    "    print(\"this is error \" , e )\n",
    "          \n",
    "finally :\n",
    "          print(\"this message is showing in every condition even if your code is not working\")"
   ]
  },
  {
   "cell_type": "code",
   "execution_count": 36,
   "id": "46ca912e-81ba-40c4-ab6d-63568ffb69df",
   "metadata": {},
   "outputs": [
    {
     "name": "stdin",
     "output_type": "stream",
     "text": [
      "Enter your age:  12\n"
     ]
    },
    {
     "name": "stdout",
     "output_type": "stream",
     "text": [
      "Age is valid\n"
     ]
    }
   ],
   "source": [
    "class pw(Exception):\n",
    "    def __init__(self, msg):\n",
    "        self.msg = msg\n",
    "\n",
    "def pw_age(age):\n",
    "    if age < 0:\n",
    "        raise pw(\"Entered age is negative\")\n",
    "    elif age > 200:\n",
    "        raise pw(\"Entered age is too high\")\n",
    "    else:\n",
    "        print(\"Age is valid\")\n",
    "\n",
    "try:\n",
    "    age = int(input(\"Enter your age: \"))\n",
    "    pw_age(age)\n",
    "except pw as e:\n",
    "    print(e.msg)"
   ]
  },
  {
   "cell_type": "markdown",
   "id": "65a76eaf-4ab8-49a3-b5ae-4b5a5dbf995b",
   "metadata": {},
   "source": [
    "# Q5 what are custom exception in python ? why we do need custom exception ? explain with an example"
   ]
  },
  {
   "cell_type": "markdown",
   "id": "cc7ae093-abe6-495f-8fd8-03abb14f8a61",
   "metadata": {},
   "source": [
    "## In Python, custom exceptions are user-defined exception classes that inherit from the base Exception class or one of its subclasses. \n",
    "## Custom exceptions allow you to define and raise exceptions that are tailored to your specific application or domain"
   ]
  },
  {
   "cell_type": "code",
   "execution_count": 2,
   "id": "9e86a294-8cec-4354-902d-77698e1e5aad",
   "metadata": {},
   "outputs": [
    {
     "name": "stdin",
     "output_type": "stream",
     "text": [
      "Enter your age:  12\n"
     ]
    },
    {
     "name": "stdout",
     "output_type": "stream",
     "text": [
      "Age is valid\n"
     ]
    }
   ],
   "source": [
    "class pw(Exception):\n",
    "    def __init__(self, msg):\n",
    "        self.msg = msg\n",
    "\n",
    "def pw_age(age):\n",
    "    if age < 0:\n",
    "        raise pw(\"Entered age is negative\")\n",
    "    elif age > 200:\n",
    "        raise pw(\"Entered age is too high\")\n",
    "    else:\n",
    "        print(\"Age is valid\")\n",
    "\n",
    "try:\n",
    "    age = int(input(\"Enter your age: \"))\n",
    "    pw_age(age)\n",
    "except pw as e:\n",
    "    print(e.msg)\n",
    "    "
   ]
  },
  {
   "cell_type": "markdown",
   "id": "7c729692-72ca-4fed-8438-8328f401019a",
   "metadata": {},
   "source": [
    "# Q6 write a custom exception class . us ethis class to handle the exception"
   ]
  },
  {
   "cell_type": "code",
   "execution_count": 4,
   "id": "486d5288-3d76-487f-a294-acec9e31c68b",
   "metadata": {},
   "outputs": [
    {
     "name": "stdin",
     "output_type": "stream",
     "text": [
      "enter your age 12\n"
     ]
    },
    {
     "name": "stdout",
     "output_type": "stream",
     "text": [
      "age is valid\n"
     ]
    }
   ],
   "source": [
    "class student(Exception) :\n",
    "    def __init__(self,msg) :\n",
    "        self.msg = msg\n",
    "        \n",
    "def student_age(age):\n",
    "    if age < 0 :\n",
    "        raise student(\"enter age is nagative\")\n",
    "    elif age > 200 :\n",
    "        raise student(\"enter age is to high\")\n",
    "    else :\n",
    "        print(\"age is valid\")\n",
    "try :\n",
    "    age = int(input(\"enter your age\"))\n",
    "    student_age(age)\n",
    "except student as e :\n",
    "    print(e)\n",
    "        "
   ]
  },
  {
   "cell_type": "code",
   "execution_count": null,
   "id": "2cb8f9d8-feff-4611-853d-c056a0c5432e",
   "metadata": {},
   "outputs": [],
   "source": []
  }
 ],
 "metadata": {
  "kernelspec": {
   "display_name": "Python 3 (ipykernel)",
   "language": "python",
   "name": "python3"
  },
  "language_info": {
   "codemirror_mode": {
    "name": "ipython",
    "version": 3
   },
   "file_extension": ".py",
   "mimetype": "text/x-python",
   "name": "python",
   "nbconvert_exporter": "python",
   "pygments_lexer": "ipython3",
   "version": "3.10.8"
  }
 },
 "nbformat": 4,
 "nbformat_minor": 5
}
